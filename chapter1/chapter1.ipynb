{
  "cells": [
    {
      "metadata": {
        "collapsed": true
      },
      "cell_type": "markdown",
      "source": "# Chapter 1"
    },
    {
      "metadata": {},
      "cell_type": "markdown",
      "source": "## Annotations"
    },
    {
      "metadata": {},
      "cell_type": "markdown",
      "source": "### Arrays\n\nTo initialize an array with ```numpy```:\n\n```python\nimport numpy as np\n\nnewArray = np.array([1, 2, 3, 4])\n```\n\n#### Cautions\n\nWhen assiging existent arrays to new variables, the new variables acess the variable location on the memory.\n\n```python\nsameArray = newArray  # anotherArray and newArray access the same memory location\ncopiedArray = np.copy(newArray)  #copiedArray has the same contents of newArray but in a different memory location\n```\n\n#### Methods\n\nUseful method when handling with arrays.\n\n- ```array.shape``` returns the size of the array for each dimension in a tuple\n- ```array.ndim``` returns the numbers of dimensions\n- ```np.copy(array)``` copys the contents of the array into another variable\n- ```np.reshape(array, (new_shape))``` changes the shape of the array\n- ```np.asarray(array, dtype)``` converts the input to an array"
    },
    {
      "metadata": {
        "trusted": true
      },
      "cell_type": "code",
      "source": "# Test calculation speed between array vs list\n\nimport numpy as np\n\nnewArray = np.arange(1e6)\nnewList = newArray.tolist()\n\n%timeit -n10 y = [val * 5 for val in newList]\n%timeit -n10 x = newArray * 5",
      "execution_count": 1,
      "outputs": [
        {
          "output_type": "stream",
          "text": "The slowest run took 4.82 times longer than the fastest. This could mean that an intermediate result is being cached.\n303 ms ± 245 ms per loop (mean ± std. dev. of 7 runs, 10 loops each)\n3.06 ms ± 699 µs per loop (mean ± std. dev. of 7 runs, 10 loops each)\n",
          "name": "stdout"
        }
      ]
    },
    {
      "metadata": {
        "trusted": true
      },
      "cell_type": "code",
      "source": "# Show that array assignment can be messy\n\nanotherArray = np.arange(6)\nprint('anotherArray = ', anotherArray, '\\n')\n\nsameArray = anotherArray\nprint('sameArray = ', sameArray, '\\n')\n\n# Set a different element for sameArray\nsameArray[0] = 7\nprint('sameArray = ', sameArray, '\\n')\n\n# Check anotherArray\nprint('anotherArray = ', anotherArray)",
      "execution_count": 2,
      "outputs": [
        {
          "output_type": "stream",
          "text": "anotherArray =  [0 1 2 3 4 5] \n\nsameArray =  [0 1 2 3 4 5] \n\nsameArray =  [7 1 2 3 4 5] \n\nanotherArray =  [7 1 2 3 4 5]\n",
          "name": "stdout"
        }
      ]
    },
    {
      "metadata": {},
      "cell_type": "markdown",
      "source": "### Book Example"
    },
    {
      "metadata": {
        "trusted": true,
        "scrolled": true
      },
      "cell_type": "code",
      "source": "import numpy as np\nimport pandas as pd\n\n# Import TCGA melanoma data\nfilename = 'counts.txt'\nwith open(filename, 'rt') as f:\n    data_table = pd.read_csv(f, index_col=0)\n    \nprint(data_table.iloc[:5, :5])",
      "execution_count": 4,
      "outputs": [
        {
          "output_type": "stream",
          "text": "       00624286-41dd-476f-a63b-d2a5f484bb45  TCGA-FS-A1Z0  TCGA-D9-A3Z1  \\\nA1BG                                1272.36        452.96        288.06   \nA1CF                                   0.00          0.00          0.00   \nA2BP1                                  0.00          0.00          0.00   \nA2LD1                                164.38        552.43        201.83   \nA2ML1                                 27.00          0.00          0.00   \n\n       02c76d24-f1d2-4029-95b4-8be3bda8fdbe  TCGA-EB-A51B  \nA1BG                                 400.11        420.46  \nA1CF                                   1.00          0.00  \nA2BP1                                  0.00          1.00  \nA2LD1                                165.12         95.75  \nA2ML1                                  0.00          8.00  \n",
          "name": "stdout"
        }
      ]
    },
    {
      "metadata": {
        "trusted": true
      },
      "cell_type": "code",
      "source": "# Sample names\nsamples = list(data_table.columns)",
      "execution_count": 5,
      "outputs": []
    },
    {
      "metadata": {
        "trusted": true,
        "scrolled": true
      },
      "cell_type": "code",
      "source": "# Import gene lengths\nfilename = 'genes.csv'\nwith open(filename, 'rt') as f:\n    gene_info = pd.read_csv(f, index_col=0)\n\nprint(gene_info.iloc[:5, :])",
      "execution_count": 7,
      "outputs": [
        {
          "output_type": "stream",
          "text": "            GeneID  GeneLength\nGeneSymbol                    \nCPA1          1357        1724\nGUCY2D        3000        3623\nUBC           7316        2687\nC11orf95     65998        5581\nANKMY2       57037        2611\n",
          "name": "stdout"
        }
      ]
    },
    {
      "metadata": {
        "trusted": true
      },
      "cell_type": "code",
      "source": "print(\"Genes in data_table: \", data_table.shape[0])\nprint(\"Genes in gene_info: \", gene_info.shape[0])",
      "execution_count": 8,
      "outputs": [
        {
          "output_type": "stream",
          "text": "Genes in data_table:  20500\nGenes in gene_info:  20503\n",
          "name": "stdout"
        }
      ]
    },
    {
      "metadata": {
        "trusted": true
      },
      "cell_type": "code",
      "source": "# Subset gene info to match the count data\nmatched_index = pd.Index.intersection(data_table.index, gene_info.index)",
      "execution_count": 9,
      "outputs": []
    },
    {
      "metadata": {
        "trusted": true
      },
      "cell_type": "code",
      "source": "# 2D ndarray containing expression counts for each gene in each individual\ncounts = np.asarray(data_table.loc[matched_index], dtype=int)\n\ngene_names = np.array(matched_index)\n\n# Check how many genes and individuals were measured\nprint(f'{counts.shape[0]} genes measured in {counts.shape[1]} individuals.')",
      "execution_count": 10,
      "outputs": [
        {
          "output_type": "stream",
          "text": "20500 genes measured in 375 individuals.\n",
          "name": "stdout"
        }
      ]
    },
    {
      "metadata": {
        "trusted": true
      },
      "cell_type": "code",
      "source": "# 1D ndarray containing the lengths of each gene\ngene_lengths = np.asarray(gene_info.loc[matched_index]['GeneLength'], dtype=int)",
      "execution_count": 11,
      "outputs": []
    },
    {
      "metadata": {
        "trusted": true,
        "scrolled": true
      },
      "cell_type": "code",
      "source": "print(counts.shape)\nprint(gene_lengths.shape)",
      "execution_count": 12,
      "outputs": [
        {
          "output_type": "stream",
          "text": "(20500, 375)\n(20500,)\n",
          "name": "stdout"
        }
      ]
    },
    {
      "metadata": {
        "trusted": true
      },
      "cell_type": "code",
      "source": "# Make all plots appear inline in the Jupyte notebook from now onwards\n%matplotlib inline\n\n# Use the book style file for the plots\nimport matplotlib.pyplot as plt\nplt.style.use('../style/elegant.mplstyle')",
      "execution_count": 13,
      "outputs": []
    },
    {
      "metadata": {
        "trusted": true
      },
      "cell_type": "code",
      "source": "total_counts = np.sum(counts, axis=0) # (axis=1 would sum rows)\n\nfrom scipy import stats\n\n# Use Gaussian smoothing to estimate the density\ndensity = stats.kde.gaussian_kde(total_counts)\n\n# Make values for which to estimate the density, for plotting\nx = np.arange(min(total_counts), max(total_counts), 10000)\n\n# Make the density plot\nfig, ax = plt.subplots()\nax.plot(x, density(x))\nax.set_xlabel('Total counts per individual')\nax.set_ylabel('Density')\nplt.show()\n\nprint(f'Count statistics:\\n min: {np.min(total_counts)}'\n     f'\\n mean: {np.mean(total_counts)}'\n     f'\\n max: {np.max(total_counts)}')",
      "execution_count": 14,
      "outputs": [
        {
          "output_type": "display_data",
          "data": {
            "image/png": "[encoded data removed]",
            "text/plain": "<Figure size 432x288 with 1 Axes>"
          },
          "metadata": {
            "needs_background": "light"
          }
        },
        {
          "output_type": "stream",
          "text": "Count statistics:\n min: 6231205\n mean: 52995255.33866667\n max: 103219262\n",
          "name": "stdout"
        }
      ]
    }
  ],
  "metadata": {
    "kernelspec": {
      "name": "python36",
      "display_name": "Python 3.6",
      "language": "python"
    },
    "language_info": {
      "mimetype": "text/x-python",
      "nbconvert_exporter": "python",
      "name": "python",
      "pygments_lexer": "ipython3",
      "version": "3.6.6",
      "file_extension": ".py",
      "codemirror_mode": {
        "version": 3,
        "name": "ipython"
      }
    }
  },
  "nbformat": 4,
  "nbformat_minor": 2
}